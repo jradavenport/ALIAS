{
 "cells": [
  {
   "cell_type": "code",
   "execution_count": 1,
   "id": "5f1dc085",
   "metadata": {},
   "outputs": [],
   "source": [
    "%matplotlib inline\n",
    "import numpy as np\n",
    "import pandas as pd\n",
    "import matplotlib.pyplot as plt\n",
    "from matplotlib.colors import LogNorm\n",
    "from astropy.table import Table\n",
    "from astropy.io import fits\n",
    "\n",
    "# import sys\n",
    "# sys.path.append('/Users/james/Dropbox/python/qthist2d/')\n",
    "# from qthist2d import qthist, qtcount\n",
    "\n",
    "# sys.path.append('/Users/james/Dropbox/python/cubehelix/')\n",
    "# import cubehelix "
   ]
  },
  {
   "cell_type": "code",
   "execution_count": 2,
   "id": "a0c3f2eb",
   "metadata": {},
   "outputs": [],
   "source": [
    "import matplotlib\n",
    "matplotlib.rcParams.update({'font.size':18})\n",
    "matplotlib.rcParams.update({'font.family':'serif'})"
   ]
  },
  {
   "cell_type": "code",
   "execution_count": 3,
   "id": "968b32dc",
   "metadata": {},
   "outputs": [],
   "source": [
    "file = 'allVisit-dr17-synspec_rev1.fits'"
   ]
  },
  {
   "cell_type": "code",
   "execution_count": 4,
   "id": "acb7437d",
   "metadata": {},
   "outputs": [],
   "source": [
    "tbl = Table.read(file)"
   ]
  },
  {
   "cell_type": "code",
   "execution_count": 7,
   "id": "795847ca",
   "metadata": {},
   "outputs": [
    {
     "data": {
      "text/plain": [
       "2659178"
      ]
     },
     "execution_count": 7,
     "metadata": {},
     "output_type": "execute_result"
    }
   ],
   "source": [
    "len(tbl)"
   ]
  },
  {
   "cell_type": "code",
   "execution_count": 8,
   "id": "f4b46c6f",
   "metadata": {},
   "outputs": [
    {
     "data": {
      "text/plain": [
       "['APOGEE_ID',\n",
       " 'TARGET_ID',\n",
       " 'VISIT_ID',\n",
       " 'FILE',\n",
       " 'FIBERID',\n",
       " 'CARTID',\n",
       " 'PLATE',\n",
       " 'MJD',\n",
       " 'TELESCOPE',\n",
       " 'SURVEY',\n",
       " 'FIELD',\n",
       " 'PROGRAMNAME',\n",
       " 'ALT_ID',\n",
       " 'LOCATION_ID',\n",
       " 'RA',\n",
       " 'DEC',\n",
       " 'GLON',\n",
       " 'GLAT',\n",
       " 'RELFLUX',\n",
       " 'MTPFLUX',\n",
       " 'J',\n",
       " 'J_ERR',\n",
       " 'H',\n",
       " 'H_ERR',\n",
       " 'K',\n",
       " 'K_ERR',\n",
       " 'SRC_H',\n",
       " 'WASH_M',\n",
       " 'WASH_M_ERR',\n",
       " 'WASH_T2',\n",
       " 'WASH_T2_ERR',\n",
       " 'DDO51',\n",
       " 'DDO51_ERR',\n",
       " 'IRAC_3_6',\n",
       " 'IRAC_3_6_ERR',\n",
       " 'IRAC_4_5',\n",
       " 'IRAC_4_5_ERR',\n",
       " 'IRAC_5_8',\n",
       " 'IRAC_5_8_ERR',\n",
       " 'IRAC_8_0',\n",
       " 'IRAC_8_0_ERR',\n",
       " 'WISE_4_5',\n",
       " 'WISE_4_5_ERR',\n",
       " 'TARG_4_5',\n",
       " 'TARG_4_5_ERR',\n",
       " 'WASH_DDO51_GIANT_FLAG',\n",
       " 'WASH_DDO51_STAR_FLAG',\n",
       " 'PMRA',\n",
       " 'PMDEC',\n",
       " 'PM_SRC',\n",
       " 'AK_TARG',\n",
       " 'AK_TARG_METHOD',\n",
       " 'AK_WISE',\n",
       " 'SFD_EBV',\n",
       " 'APOGEE_TARGET1',\n",
       " 'APOGEE_TARGET2',\n",
       " 'APOGEE2_TARGET1',\n",
       " 'APOGEE2_TARGET2',\n",
       " 'APOGEE2_TARGET3',\n",
       " 'APOGEE2_TARGET4',\n",
       " 'TARGFLAGS',\n",
       " 'SNR',\n",
       " 'STARFLAG',\n",
       " 'STARFLAGS',\n",
       " 'DATEOBS',\n",
       " 'JD',\n",
       " 'VLSR',\n",
       " 'VGSR',\n",
       " 'CHISQ',\n",
       " 'SYNTHFILE',\n",
       " 'MIN_H',\n",
       " 'MAX_H',\n",
       " 'MIN_JK',\n",
       " 'MAX_JK',\n",
       " 'VREL',\n",
       " 'VRELERR',\n",
       " 'VHELIO',\n",
       " 'BC',\n",
       " 'RV_TEFF',\n",
       " 'RV_LOGG',\n",
       " 'RV_FEH',\n",
       " 'RV_CARB',\n",
       " 'RV_ALPHA',\n",
       " 'XCORR_VREL',\n",
       " 'XCORR_VRELERR',\n",
       " 'XCORR_VHELIO',\n",
       " 'CCFWHM',\n",
       " 'AUTOFWHM',\n",
       " 'RV_CHI2',\n",
       " 'N_COMPONENTS',\n",
       " 'RV_COMPONENTS',\n",
       " 'RV_FLAG']"
      ]
     },
     "execution_count": 8,
     "metadata": {},
     "output_type": "execute_result"
    }
   ],
   "source": [
    "tbl.colnames"
   ]
  },
  {
   "cell_type": "code",
   "execution_count": null,
   "id": "c09f2cf6",
   "metadata": {},
   "outputs": [],
   "source": []
  }
 ],
 "metadata": {
  "kernelspec": {
   "display_name": "Python 3 (ipykernel)",
   "language": "python",
   "name": "python3"
  },
  "language_info": {
   "codemirror_mode": {
    "name": "ipython",
    "version": 3
   },
   "file_extension": ".py",
   "mimetype": "text/x-python",
   "name": "python",
   "nbconvert_exporter": "python",
   "pygments_lexer": "ipython3",
   "version": "3.8.5"
  }
 },
 "nbformat": 4,
 "nbformat_minor": 5
}
