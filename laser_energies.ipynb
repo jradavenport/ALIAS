{
 "cells": [
  {
   "cell_type": "markdown",
   "id": "9d4da35e-1ba6-4db1-a3f9-540b94a933ff",
   "metadata": {},
   "source": [
    "# Laser Energy\n",
    "How much energy is needed to see lasers in our spectra?"
   ]
  },
  {
   "cell_type": "code",
   "execution_count": 16,
   "id": "b1f7beb1-eabc-4738-bff7-51052d8c8a6f",
   "metadata": {},
   "outputs": [],
   "source": [
    "%matplotlib widget\n",
    "import numpy as np\n",
    "import astropy.units as u\n",
    "from astropy import constants as const\n",
    "import matplotlib.pyplot as plt"
   ]
  },
  {
   "cell_type": "code",
   "execution_count": 1,
   "id": "8200a9e2-c795-4c71-894a-de69367af52b",
   "metadata": {},
   "outputs": [],
   "source": [
    "# step 1: reproduce the calculation for Boyajian's Star with APF from:\n",
    "# https://iopscience.iop.org/article/10.1088/1538-3873/aafe86/pdf"
   ]
  },
  {
   "cell_type": "code",
   "execution_count": 30,
   "id": "79c06269-98f1-4d84-b1af-6ae66bad9a3f",
   "metadata": {},
   "outputs": [],
   "source": [
    "DeltaLam = 900*u.nm - 400*u.nm\n",
    "pscale = 0.02 *u.nm / u.pixel\n",
    "dlam = (3.26 * u.pixel) * pscale\n",
    "\n",
    "D = 1470 * u.lightyear\n",
    "d_t = 2.4 * u.m\n",
    "Lambda = 500 *u.nm\n",
    "\n",
    "# const.L_sun\n",
    "# const.c * const.h / Lambda\n",
    "A_d = np.pi * (1.2*u.m)**2\n",
    "\n",
    "t_exp = 600 * u.second\n",
    "et = 0.05 # efficiency"
   ]
  },
  {
   "cell_type": "code",
   "execution_count": 31,
   "id": "c28cc6e2-18f8-432b-8736-5c6dc2b3ae85",
   "metadata": {},
   "outputs": [
    {
     "data": {
      "text/latex": [
       "$24.055186 \\; \\mathrm{MW}$"
      ],
      "text/plain": [
       "<Quantity 24.05518632 MW>"
      ]
     },
     "execution_count": 31,
     "metadata": {},
     "output_type": "execute_result"
    }
   ],
   "source": [
    "L_laser = 1.86 * D / (d_t**2) * np.sqrt(const.L_sun * dlam / DeltaLam * const.h * const.c * np.pi * (Lambda**3) / (A_d * t_exp * et))\n",
    "L_laser.to('MW')"
   ]
  },
  {
   "cell_type": "code",
   "execution_count": null,
   "id": "4aee0214-241f-4c3b-8c3b-d8f5c945c9cf",
   "metadata": {},
   "outputs": [],
   "source": []
  },
  {
   "cell_type": "code",
   "execution_count": 32,
   "id": "6db199e1-bef2-4c48-a56e-f27f58f5ea3d",
   "metadata": {},
   "outputs": [],
   "source": [
    "# Now lets \"observe\" Boyajian's Star with SDSS-like numbers"
   ]
  },
  {
   "cell_type": "code",
   "execution_count": 37,
   "id": "0e4ca80c-3376-4bc6-bdaa-5615e196b235",
   "metadata": {},
   "outputs": [],
   "source": [
    "# DeltaLam = 920*u.nm - 380*u.nm # for SDSS original \n",
    "DeltaLam = 1040*u.nm - 365*u.nm # for BOSS\n",
    "pscale = 1.02 *u.angstrom / u.pixel # (need to check this)\n",
    "dlam = (2 * u.pixel) * pscale\n",
    "\n",
    "D = 1470 * u.lightyear\n",
    "d_t = 2.4 * u.m # assumed size of transmitter laser \n",
    "Lambda = 500 *u.nm\n",
    "\n",
    "A_d = np.pi * (1.25*u.m)**2 # area of receiving telesocpe (SDSS)\n",
    "\n",
    "t_exp = 2700 * u.second # assume basic 3x15min exposure for SDSS\n",
    "et = 0.05 # efficiency"
   ]
  },
  {
   "cell_type": "code",
   "execution_count": 38,
   "id": "d8e6fc22-09f8-408f-a337-bef38b37e17b",
   "metadata": {},
   "outputs": [
    {
     "data": {
      "text/latex": [
       "$16.572884 \\; \\mathrm{MW}$"
      ],
      "text/plain": [
       "<Quantity 16.57288447 MW>"
      ]
     },
     "execution_count": 38,
     "metadata": {},
     "output_type": "execute_result"
    }
   ],
   "source": [
    "L_laser = 1.86 * D / (d_t**2) * np.sqrt(const.L_sun * dlam / DeltaLam * const.h * const.c * np.pi * (Lambda**3) / (A_d * t_exp * et))\n",
    "L_laser.to('MW')"
   ]
  },
  {
   "cell_type": "code",
   "execution_count": null,
   "id": "d09fe20d-6225-4489-8f73-9df9014b554d",
   "metadata": {},
   "outputs": [],
   "source": []
  },
  {
   "cell_type": "code",
   "execution_count": null,
   "id": "1db48dc7-2baf-4321-a24c-e5c71e7416b2",
   "metadata": {},
   "outputs": [],
   "source": []
  },
  {
   "cell_type": "code",
   "execution_count": 39,
   "id": "2a80f199-e734-4efb-b354-3c5634ad04bf",
   "metadata": {},
   "outputs": [],
   "source": [
    "# What about one of our normal targets, much further away?\n",
    "D = 2000 * u.pc # Put star far away, at 2kpc"
   ]
  },
  {
   "cell_type": "code",
   "execution_count": 40,
   "id": "26735e82-a645-4de9-a99e-bc0eb23bf30e",
   "metadata": {},
   "outputs": [
    {
     "data": {
      "text/latex": [
       "$73.542204 \\; \\mathrm{MW}$"
      ],
      "text/plain": [
       "<Quantity 73.54220362 MW>"
      ]
     },
     "execution_count": 40,
     "metadata": {},
     "output_type": "execute_result"
    }
   ],
   "source": [
    "L_laser = 1.86 * D / (d_t**2) * np.sqrt(const.L_sun * dlam / DeltaLam * const.h * const.c * np.pi * (Lambda**3) / (A_d * t_exp * et))\n",
    "L_laser.to('MW')"
   ]
  },
  {
   "cell_type": "code",
   "execution_count": null,
   "id": "5b370ac5-aa93-4749-89e9-661c829d02a9",
   "metadata": {},
   "outputs": [],
   "source": []
  }
 ],
 "metadata": {
  "kernelspec": {
   "display_name": "Python 3 (ipykernel)",
   "language": "python",
   "name": "python3"
  },
  "language_info": {
   "codemirror_mode": {
    "name": "ipython",
    "version": 3
   },
   "file_extension": ".py",
   "mimetype": "text/x-python",
   "name": "python",
   "nbconvert_exporter": "python",
   "pygments_lexer": "ipython3",
   "version": "3.11.5"
  }
 },
 "nbformat": 4,
 "nbformat_minor": 5
}
