{
 "cells": [
  {
   "cell_type": "markdown",
   "id": "9d4da35e-1ba6-4db1-a3f9-540b94a933ff",
   "metadata": {},
   "source": [
    "# Laser Energy\n",
    "How much energy is needed to see lasers in our spectra?"
   ]
  },
  {
   "cell_type": "code",
   "execution_count": 1,
   "id": "b1f7beb1-eabc-4738-bff7-51052d8c8a6f",
   "metadata": {},
   "outputs": [],
   "source": [
    "%matplotlib widget\n",
    "import numpy as np\n",
    "import astropy.units as u\n",
    "from astropy import constants as const\n",
    "import matplotlib.pyplot as plt"
   ]
  },
  {
   "cell_type": "code",
   "execution_count": 2,
   "id": "8200a9e2-c795-4c71-894a-de69367af52b",
   "metadata": {},
   "outputs": [],
   "source": [
    "# step 1: reproduce the calculation for Boyajian's Star with APF from:\n",
    "# https://iopscience.iop.org/article/10.1088/1538-3873/aafe86/pdf"
   ]
  },
  {
   "cell_type": "code",
   "execution_count": 3,
   "id": "79c06269-98f1-4d84-b1af-6ae66bad9a3f",
   "metadata": {},
   "outputs": [],
   "source": [
    "DeltaLam = 900*u.nm - 400*u.nm\n",
    "pscale = 0.02 *u.nm / u.pixel\n",
    "dlam = (3.26 * u.pixel) * pscale\n",
    "\n",
    "D = 1470 * u.lightyear\n",
    "d_t = 2.4 * u.m\n",
    "Lambda = 500 *u.nm\n",
    "\n",
    "# const.L_sun\n",
    "# const.c * const.h / Lambda\n",
    "A_d = np.pi * (1.2*u.m)**2\n",
    "\n",
    "t_exp = 600 * u.second\n",
    "et = 0.05 # efficiency"
   ]
  },
  {
   "cell_type": "code",
   "execution_count": 4,
   "id": "c28cc6e2-18f8-432b-8736-5c6dc2b3ae85",
   "metadata": {},
   "outputs": [
    {
     "data": {
      "text/latex": [
       "$24.055186 \\; \\mathrm{MW}$"
      ],
      "text/plain": [
       "<Quantity 24.05518632 MW>"
      ]
     },
     "execution_count": 4,
     "metadata": {},
     "output_type": "execute_result"
    }
   ],
   "source": [
    "L_laser = 1.86 * D / (d_t**2) * np.sqrt(const.L_sun * dlam / DeltaLam * const.h * const.c * np.pi * (Lambda**3) / (A_d * t_exp * et))\n",
    "L_laser.to('MW')"
   ]
  },
  {
   "cell_type": "code",
   "execution_count": 5,
   "id": "e9771eee-6597-4eaa-afd2-08b0f7907cc2",
   "metadata": {},
   "outputs": [
    {
     "data": {
      "text/latex": [
       "$7668.7117 \\; \\mathrm{}$"
      ],
      "text/plain": [
       "<Quantity 7668.71165644>"
      ]
     },
     "execution_count": 5,
     "metadata": {},
     "output_type": "execute_result"
    }
   ],
   "source": [
    "# I dont understand that pixel scale for APF.... That doesn't give a resolution of R=lambda/delta lambda = 100k.\n",
    "Lambda / dlam"
   ]
  },
  {
   "cell_type": "code",
   "execution_count": 6,
   "id": "93faa322-7c06-49fa-8bb8-9b7b56236892",
   "metadata": {},
   "outputs": [
    {
     "data": {
      "text/latex": [
       "$76687.117 \\; \\mathrm{}$"
      ],
      "text/plain": [
       "<Quantity 76687.11656442>"
      ]
     },
     "execution_count": 6,
     "metadata": {},
     "output_type": "execute_result"
    }
   ],
   "source": [
    "pscale = 0.002 *u.nm / u.pixel\n",
    "dlam = (3.26 * u.pixel) * pscale\n",
    "Lambda / dlam\n",
    "# closer!"
   ]
  },
  {
   "cell_type": "code",
   "execution_count": 7,
   "id": "32c25aef-73c2-4efb-832c-82dc1b55eb0a",
   "metadata": {},
   "outputs": [
    {
     "data": {
      "text/latex": [
       "$7.6069178 \\; \\mathrm{MW}$"
      ],
      "text/plain": [
       "<Quantity 7.60691783 MW>"
      ]
     },
     "execution_count": 7,
     "metadata": {},
     "output_type": "execute_result"
    }
   ],
   "source": [
    "# Zuckerman+2023 note this is wrong too! (their footnote #9)\n",
    "# https://ui.adsabs.harvard.edu/abs/2023AJ....165..114Z\n",
    "pscale = 0.002 *u.nm / u.pixel\n",
    "dlam = (3.26 * u.pixel) * pscale\n",
    "\n",
    "L_laser = 1.86 * D / (d_t**2) * np.sqrt(const.L_sun * dlam / DeltaLam * const.h * const.c * np.pi * (Lambda**3) / (A_d * t_exp * et))\n",
    "L_laser.to('MW')\n",
    "\n",
    "# This almost matches their correction (they say 7.3 MW, not 7.6 MW)"
   ]
  },
  {
   "cell_type": "code",
   "execution_count": 8,
   "id": "8c4f3b57-d9d7-4ddf-8e27-6fa9b89c5bff",
   "metadata": {},
   "outputs": [
    {
     "data": {
      "text/latex": [
       "$368.1368 \\; \\mathrm{kW}$"
      ],
      "text/plain": [
       "<Quantity 368.13680436 kW>"
      ]
     },
     "execution_count": 8,
     "metadata": {},
     "output_type": "execute_result"
    }
   ],
   "source": [
    "# The Zuckerman nearby star sample average:\n",
    "D = 78.47 * u.lightyear\n",
    "t_exp = 730 * u.second\n",
    "\n",
    "L_laser = 1.86 * D / (d_t**2) * np.sqrt(const.L_sun * dlam / DeltaLam * const.h * const.c * np.pi * (Lambda**3) / (A_d * t_exp * et))\n",
    "L_laser.to('kW')\n",
    "# so this doesn't quite match Anna's result (84 kW). They use a slightly different equation, \n",
    "#  which integrates the line area in units of photons (they call this AMD). So I'll keep this larger\n",
    "#  answer as usefully conservative.\n",
    "\n",
    "#  This is comparable to lasers being developed by military\n",
    "#  https://news.northropgrumman.com/news/releases/northrop-grumman-successfully-completes-preliminary-design-review-for-a-300-kilowatt-class-high-energy-laser"
   ]
  },
  {
   "cell_type": "code",
   "execution_count": null,
   "id": "f2f9c8ea-1885-4c8a-9bb3-d07d7a43411d",
   "metadata": {},
   "outputs": [],
   "source": []
  },
  {
   "cell_type": "code",
   "execution_count": 9,
   "id": "6db199e1-bef2-4c48-a56e-f27f58f5ea3d",
   "metadata": {},
   "outputs": [],
   "source": [
    "# Now lets \"observe\" Boyajian's Star with SDSS-like numbers"
   ]
  },
  {
   "cell_type": "code",
   "execution_count": 10,
   "id": "0e4ca80c-3376-4bc6-bdaa-5615e196b235",
   "metadata": {},
   "outputs": [],
   "source": [
    "# DeltaLam = 920*u.nm - 380*u.nm # for SDSS original \n",
    "DeltaLam = 1040*u.nm - 365*u.nm # for BOSS\n",
    "pscale = 1.02 *u.angstrom / u.pixel # (need to check this)\n",
    "dlam = (3 * u.pixel) * pscale\n",
    "\n",
    "D = 1470 * u.lightyear\n",
    "d_t = 2.4 * u.m # assumed size of transmitter laser \n",
    "Lambda = 500 *u.nm\n",
    "\n",
    "A_d = np.pi * (1.25*u.m)**2 # area of receiving telesocpe (SDSS)\n",
    "\n",
    "t_exp = 2700 * u.second # assume basic 3x15min exposure for SDSS\n",
    "et = 0.05 # efficiency"
   ]
  },
  {
   "cell_type": "code",
   "execution_count": 11,
   "id": "d8e6fc22-09f8-408f-a337-bef38b37e17b",
   "metadata": {},
   "outputs": [
    {
     "data": {
      "text/latex": [
       "$20.297555 \\; \\mathrm{MW}$"
      ],
      "text/plain": [
       "<Quantity 20.29755526 MW>"
      ]
     },
     "execution_count": 11,
     "metadata": {},
     "output_type": "execute_result"
    }
   ],
   "source": [
    "L_laser = 1.86 * D / (d_t**2) * np.sqrt(const.L_sun * dlam / DeltaLam * const.h * const.c * np.pi * (Lambda**3) / (A_d * t_exp * et))\n",
    "L_laser.to('MW')"
   ]
  },
  {
   "cell_type": "code",
   "execution_count": 12,
   "id": "d09fe20d-6225-4489-8f73-9df9014b554d",
   "metadata": {},
   "outputs": [
    {
     "data": {
      "text/latex": [
       "$1633.9869 \\; \\mathrm{}$"
      ],
      "text/plain": [
       "<Quantity 1633.9869281>"
      ]
     },
     "execution_count": 12,
     "metadata": {},
     "output_type": "execute_result"
    }
   ],
   "source": [
    "Lambda.to('nm') / dlam.to('nm')"
   ]
  },
  {
   "cell_type": "code",
   "execution_count": null,
   "id": "1db48dc7-2baf-4321-a24c-e5c71e7416b2",
   "metadata": {},
   "outputs": [],
   "source": []
  },
  {
   "cell_type": "code",
   "execution_count": 13,
   "id": "2a80f199-e734-4efb-b354-3c5634ad04bf",
   "metadata": {},
   "outputs": [],
   "source": [
    "# What about one of our normal targets, much further away?\n",
    "D = 2000 * u.pc # Put star far away, at 2kpc"
   ]
  },
  {
   "cell_type": "code",
   "execution_count": 14,
   "id": "26735e82-a645-4de9-a99e-bc0eb23bf30e",
   "metadata": {},
   "outputs": [
    {
     "data": {
      "text/latex": [
       "$90.070437 \\; \\mathrm{MW}$"
      ],
      "text/plain": [
       "<Quantity 90.07043672 MW>"
      ]
     },
     "execution_count": 14,
     "metadata": {},
     "output_type": "execute_result"
    }
   ],
   "source": [
    "L_laser = 1.86 * D / (d_t**2) * np.sqrt(const.L_sun * dlam / DeltaLam * const.h * const.c * np.pi * (Lambda**3) / (A_d * t_exp * et))\n",
    "L_laser.to('MW')"
   ]
  },
  {
   "cell_type": "code",
   "execution_count": null,
   "id": "5b370ac5-aa93-4749-89e9-661c829d02a9",
   "metadata": {},
   "outputs": [],
   "source": []
  },
  {
   "cell_type": "code",
   "execution_count": 19,
   "id": "46884dd7-5b5d-4d0d-a8ee-734b1e8e0d7b",
   "metadata": {},
   "outputs": [
    {
     "data": {
      "text/latex": [
       "$34.083788 \\; \\mathrm{MW}$"
      ],
      "text/plain": [
       "<Quantity 34.08378828 MW>"
      ]
     },
     "execution_count": 19,
     "metadata": {},
     "output_type": "execute_result"
    }
   ],
   "source": [
    "# Following calculation from Appendix in https://iopscience.iop.org/article/10.1088/1538-3873/aafe86/pdf\n",
    "# how about the APOGEE laser energies?\n",
    "DeltaLam = 16999*u.angstrom - 15100*u.angstrom # IR range for APOGEE\n",
    "\n",
    "pscale = 0.22 * u.angstrom / u.pixel # from a random APOGEE spectrum\n",
    "dlam = (2 * u.pixel) * pscale # need to check this against the LSF\n",
    "\n",
    "D = 223 * u.pc # average dist to G dwarf in our APOGEE sample\n",
    "d_t = 2.4 * u.m # assume aperture of transmitting telescope is 2.4m\n",
    "Lambda = 16100 *u.angstrom # need the laser line to be in the IR\n",
    "\n",
    "A_d = np.pi * (1.25*u.m)**2 # radius of SDSS telescope primary mirror\n",
    "\n",
    "t_exp = 5*800 * u.second # APOGEE = 5x800second exposure stacks\n",
    "# https://www.sdss4.org/dr17/irspec/apogee-observing/#:~:text=A%20standard%20exposure%20sequence%20is,or%20six%201000%20second%20exposures.\n",
    "\n",
    "et = 0.05 # 5% efficiency.... seems OK\n",
    "\n",
    "L_laser = 1.86 * D / (d_t**2) * np.sqrt(const.L_sun * dlam / DeltaLam * const.h * const.c * np.pi * (Lambda**3) / (A_d * t_exp * et))\n",
    "L_laser.to('MW')"
   ]
  },
  {
   "cell_type": "code",
   "execution_count": null,
   "id": "1f9f1efa-516e-4a3f-8ba5-15c33c1a97dc",
   "metadata": {},
   "outputs": [],
   "source": []
  },
  {
   "cell_type": "code",
   "execution_count": null,
   "id": "75597b50-a92b-43e6-ad4f-dfae1d9b9ace",
   "metadata": {},
   "outputs": [],
   "source": []
  }
 ],
 "metadata": {
  "kernelspec": {
   "display_name": "Python 3 (ipykernel)",
   "language": "python",
   "name": "python3"
  },
  "language_info": {
   "codemirror_mode": {
    "name": "ipython",
    "version": 3
   },
   "file_extension": ".py",
   "mimetype": "text/x-python",
   "name": "python",
   "nbconvert_exporter": "python",
   "pygments_lexer": "ipython3",
   "version": "3.11.5"
  }
 },
 "nbformat": 4,
 "nbformat_minor": 5
}
