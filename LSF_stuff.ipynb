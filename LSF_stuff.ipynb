{
 "cells": [
  {
   "cell_type": "code",
   "execution_count": 1,
   "id": "d60c696b",
   "metadata": {},
   "outputs": [],
   "source": [
    "%matplotlib inline\n",
    "import numpy as np\n",
    "import pandas as pd\n",
    "import matplotlib.pyplot as plt\n",
    "from matplotlib.colors import LogNorm\n",
    "from astropy.table import Table\n",
    "from astropy.io import fits"
   ]
  },
  {
   "cell_type": "code",
   "execution_count": 2,
   "id": "09afc06b",
   "metadata": {},
   "outputs": [],
   "source": [
    "import matplotlib\n",
    "matplotlib.rcParams.update({'font.size':18})\n",
    "matplotlib.rcParams.update({'font.family':'serif'})"
   ]
  },
  {
   "cell_type": "code",
   "execution_count": 16,
   "id": "a911cbe1",
   "metadata": {},
   "outputs": [],
   "source": [
    "# from here: https://zenodo.org/record/16147#.YuBc-C-B2v4\n",
    "file = 'apogee-lsf-dr12-all.fits'\n",
    "# tbl = Table.read(file, format='fits')\n",
    "### not a table"
   ]
  },
  {
   "cell_type": "code",
   "execution_count": 17,
   "id": "6805faac",
   "metadata": {},
   "outputs": [
    {
     "name": "stdout",
     "output_type": "stream",
     "text": [
      "Filename: apogee-lsf-dr12-all.fits\n",
      "No.    Name      Ver    Type      Cards   Dimensions   Format\n",
      "  0  PRIMARY       1 PrimaryHDU       8   (43, 25724)   float64   \n"
     ]
    }
   ],
   "source": [
    "hdul = fits.open(file)\n",
    "hdul.info()"
   ]
  },
  {
   "cell_type": "code",
   "execution_count": 18,
   "id": "e7ba3582",
   "metadata": {},
   "outputs": [
    {
     "data": {
      "text/plain": [
       "SIMPLE  =                    T / file does conform to FITS standard             \n",
       "BITPIX  =                  -64 / number of bits per data pixel                  \n",
       "NAXIS   =                    2 / number of data axes                            \n",
       "NAXIS1  =                   43 / length of data axis 1                          \n",
       "NAXIS2  =                25724 / length of data axis 2                          \n",
       "EXTEND  =                    T / FITS dataset may contain extensions            \n",
       "COMMENT   FITS (Flexible Image Transport System) format is defined in 'Astronomy\n",
       "COMMENT   and Astrophysics', volume 376, page 359; bibcode: 2001A&A...376..359H "
      ]
     },
     "execution_count": 18,
     "metadata": {},
     "output_type": "execute_result"
    }
   ],
   "source": [
    "hdul[0].header"
   ]
  },
  {
   "cell_type": "code",
   "execution_count": 24,
   "id": "35f52832",
   "metadata": {},
   "outputs": [
    {
     "data": {
      "text/plain": [
       "(25724, 43)"
      ]
     },
     "execution_count": 24,
     "metadata": {},
     "output_type": "execute_result"
    }
   ],
   "source": [
    "data = hdul[0].data\n",
    "data.shape"
   ]
  },
  {
   "cell_type": "code",
   "execution_count": 21,
   "id": "86d530cd",
   "metadata": {},
   "outputs": [],
   "source": [
    "x = np.linspace(-7.,7.,43)"
   ]
  },
  {
   "cell_type": "code",
   "execution_count": 35,
   "id": "3850638e",
   "metadata": {},
   "outputs": [
    {
     "data": {
      "text/plain": [
       "[<matplotlib.lines.Line2D at 0x7fb2ec1b8190>]"
      ]
     },
     "execution_count": 35,
     "metadata": {},
     "output_type": "execute_result"
    },
    {
     "data": {
      "image/png": "[encoded data removed]",
      "text/plain": [
       "<Figure size 432x288 with 1 Axes>"
      ]
     },
     "metadata": {
      "needs_background": "light"
     },
     "output_type": "display_data"
    }
   ],
   "source": [
    "file = 'apogee-lsf-dr12-all.fits'\n",
    "hdul = fits.open(file)\n",
    "data = hdul[0].data\n",
    "x = np.linspace(-7.,7.,43)\n",
    "for k in range(0,data.shape[0],100):\n",
    "    plt.plot(x, data[k,:], c='k', alpha=0.1)\n",
    "    \n",
    "med = np.nanmedian(data, axis=0)\n",
    "plt.plot(x, med, c='r', lw=3)"
   ]
  },
  {
   "cell_type": "code",
   "execution_count": 27,
   "id": "59660799",
   "metadata": {},
   "outputs": [
    {
     "data": {
      "text/plain": [
       "array([23380, 23380, 23380, 23380, 23380, 23380, 23380, 23380, 23380,\n",
       "       23380, 23380, 23380, 23380, 23380, 23380, 23380, 23380, 23380,\n",
       "       23380, 23380, 23380, 23380, 23380, 23380, 23380, 23380, 23380,\n",
       "       23380, 23380, 23380, 23380, 23380, 23380, 23380, 23380, 23380,\n",
       "       23380, 23380, 23380, 23380, 23380, 23380, 23380])"
      ]
     },
     "execution_count": 27,
     "metadata": {},
     "output_type": "execute_result"
    }
   ],
   "source": [
    "sum(np.isfinite(data))"
   ]
  },
  {
   "cell_type": "code",
   "execution_count": 29,
   "id": "eaf10bbe",
   "metadata": {},
   "outputs": [
    {
     "data": {
      "text/plain": [
       "8574.666666666666"
      ]
     },
     "execution_count": 29,
     "metadata": {},
     "output_type": "execute_result"
    }
   ],
   "source": [
    "25724/3"
   ]
  },
  {
   "cell_type": "code",
   "execution_count": null,
   "id": "50b9a8d4",
   "metadata": {},
   "outputs": [],
   "source": []
  }
 ],
 "metadata": {
  "kernelspec": {
   "display_name": "Python 3 (ipykernel)",
   "language": "python",
   "name": "python3"
  },
  "language_info": {
   "codemirror_mode": {
    "name": "ipython",
    "version": 3
   },
   "file_extension": ".py",
   "mimetype": "text/x-python",
   "name": "python",
   "nbconvert_exporter": "python",
   "pygments_lexer": "ipython3",
   "version": "3.8.13"
  }
 },
 "nbformat": 4,
 "nbformat_minor": 5
}
